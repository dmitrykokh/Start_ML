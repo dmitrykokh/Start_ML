{
 "cells": [
  {
   "cell_type": "code",
   "execution_count": 1,
   "id": "6223f48f",
   "metadata": {},
   "outputs": [],
   "source": [
    "import os\n",
    "from catboost import CatBoostClassifier\n",
    "\n",
    "def get_model_path(path: str) -> str:\n",
    "    if os.environ.get(\"IS_LMS\") == \"1\":\n",
    "        MODEL_PATH = '/workdir/user_input/model'\n",
    "    else:\n",
    "        MODEL_PATH = path\n",
    "    return MODEL_PATH\n",
    "\n",
    "def load_models():\n",
    "    model_path = get_model_path(\"/Dev/Start_ML/Documents/Start_ML/part_2_ML/catboost_model\")\n",
    "    model = CatBoostClassifier().load_model(model_path, format='cbm')\n",
    "    return model"
   ]
  }
 ],
 "metadata": {
  "kernelspec": {
   "display_name": "Python 3 (ipykernel)",
   "language": "python",
   "name": "python3"
  },
  "language_info": {
   "codemirror_mode": {
    "name": "ipython",
    "version": 3
   },
   "file_extension": ".py",
   "mimetype": "text/x-python",
   "name": "python",
   "nbconvert_exporter": "python",
   "pygments_lexer": "ipython3",
   "version": "3.10.9"
  }
 },
 "nbformat": 4,
 "nbformat_minor": 5
}
