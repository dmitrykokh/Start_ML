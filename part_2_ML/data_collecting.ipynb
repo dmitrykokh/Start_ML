{
 "cells": [
  {
   "cell_type": "code",
   "execution_count": null,
   "outputs": [],
   "source": [
    "from sqlalchemy import create_engine\n",
    "import pandas as pd"
   ],
   "metadata": {
    "collapsed": false,
    "pycharm": {
     "name": "#%%\n"
    }
   }
  },
  {
   "cell_type": "code",
   "execution_count": null,
   "outputs": [],
   "source": [
    "engine = create_engine(\n",
    "    \"postgresql://robot-startml-ro:pheiph0hahj1Vaif@\"\n",
    "    \"postgres.lab.karpov.courses:6432/startml\"\n",
    ")\n",
    "\n",
    "def fetch_data(query: str) -> pd.DataFrame:\n",
    "    return pd.read_sql(query, engine)"
   ],
   "metadata": {
    "collapsed": false,
    "pycharm": {
     "name": "#%%\n"
    }
   }
  },
  {
   "cell_type": "code",
   "execution_count": 10,
   "id": "cf860bb6",
   "metadata": {},
   "outputs": [],
   "source": [
    "user_data = fetch_data(\"SELECT * FROM public.user_data\")\n",
    "post_text_df = fetch_data(\"SELECT * FROM public.post_text_df\")\n",
    "feed_data = fetch_data(\"SELECT * FROM public.feed_data LIMIT 1000000\")\n",
    "count_actions = fetch_data(\"SELECT user_id, COUNT(action) FROM public.feed_data GROUP BY user_id;\")"
   ]
  },
  {
   "cell_type": "code",
   "execution_count": 4,
   "id": "0713dd7e",
   "metadata": {},
   "outputs": [],
   "source": [
    "user_data.to_csv('user_data.csv', index=False)"
   ]
  },
  {
   "cell_type": "code",
   "execution_count": 5,
   "id": "346c162d",
   "metadata": {},
   "outputs": [],
   "source": [
    "post_text_df.to_csv('post_text_df.csv', index=False)"
   ]
  },
  {
   "cell_type": "code",
   "execution_count": 6,
   "id": "32a8a5dc",
   "metadata": {},
   "outputs": [],
   "source": [
    "feed_data.to_csv('feed_data.csv', index=False)"
   ]
  },
  {
   "cell_type": "code",
   "execution_count": 7,
   "id": "fa61726f",
   "metadata": {},
   "outputs": [],
   "source": [
    "count_actions.to_csv('counT_actions.csv', index=False)"
   ]
  },
  {
   "cell_type": "code",
   "execution_count": 8,
   "id": "c134f48d",
   "metadata": {},
   "outputs": [],
   "source": [
    "engine.dispose()"
   ]
  }
 ],
 "metadata": {
  "kernelspec": {
   "display_name": "Python 3 (ipykernel)",
   "language": "python",
   "name": "python3"
  },
  "language_info": {
   "codemirror_mode": {
    "name": "ipython",
    "version": 3
   },
   "file_extension": ".py",
   "mimetype": "text/x-python",
   "name": "python",
   "nbconvert_exporter": "python",
   "pygments_lexer": "ipython3",
   "version": "3.10.9"
  }
 },
 "nbformat": 4,
 "nbformat_minor": 5
}